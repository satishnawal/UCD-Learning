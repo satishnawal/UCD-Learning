{
 "cells": [
  {
   "cell_type": "code",
   "execution_count": null,
   "id": "7802bdca",
   "metadata": {},
   "outputs": [],
   "source": [
    "#data types -\n",
    "int, str, float, bool\n",
    "#  data strcuture\n",
    "1) Tuple\n",
    "2) list\n",
    "3) Dictionary"
   ]
  },
  {
   "cell_type": "code",
   "execution_count": 1,
   "id": "6c46ce27",
   "metadata": {},
   "outputs": [
    {
     "data": {
      "text/plain": [
       "(1, 2, 3, 4, 5)"
      ]
     },
     "execution_count": 1,
     "metadata": {},
     "output_type": "execute_result"
    }
   ],
   "source": [
    "#tuple\n",
    "a=(1,2,3,4,5)\n",
    "a"
   ]
  },
  {
   "cell_type": "code",
   "execution_count": 2,
   "id": "6d911780",
   "metadata": {},
   "outputs": [
    {
     "data": {
      "text/plain": [
       "3"
      ]
     },
     "execution_count": 2,
     "metadata": {},
     "output_type": "execute_result"
    }
   ],
   "source": [
    "#indexing ---- > both + / - supported\n",
    "#a[index]\n",
    "a[2]"
   ]
  },
  {
   "cell_type": "code",
   "execution_count": 3,
   "id": "8bb3159c",
   "metadata": {},
   "outputs": [
    {
     "data": {
      "text/plain": [
       "4"
      ]
     },
     "execution_count": 3,
     "metadata": {},
     "output_type": "execute_result"
    }
   ],
   "source": [
    "a[-2]"
   ]
  },
  {
   "cell_type": "code",
   "execution_count": 4,
   "id": "2a56c2c7",
   "metadata": {},
   "outputs": [
    {
     "data": {
      "text/plain": [
       "(2, 3)"
      ]
     },
     "execution_count": 4,
     "metadata": {},
     "output_type": "execute_result"
    }
   ],
   "source": [
    "#slicing\n",
    "#a[startindex:endindex+1]\n",
    "a[1:3]"
   ]
  },
  {
   "cell_type": "code",
   "execution_count": 5,
   "id": "d6743aa4",
   "metadata": {},
   "outputs": [
    {
     "data": {
      "text/plain": [
       "(2, 3, 4, 5)"
      ]
     },
     "execution_count": 5,
     "metadata": {},
     "output_type": "execute_result"
    }
   ],
   "source": [
    "a[1:]"
   ]
  },
  {
   "cell_type": "code",
   "execution_count": 6,
   "id": "c5abb3e5",
   "metadata": {},
   "outputs": [
    {
     "data": {
      "text/plain": [
       "(1, 2, 3, 4)"
      ]
     },
     "execution_count": 6,
     "metadata": {},
     "output_type": "execute_result"
    }
   ],
   "source": [
    "a[:4]"
   ]
  },
  {
   "cell_type": "code",
   "execution_count": 7,
   "id": "59e09eb7",
   "metadata": {},
   "outputs": [
    {
     "data": {
      "text/plain": [
       "()"
      ]
     },
     "execution_count": 7,
     "metadata": {},
     "output_type": "execute_result"
    }
   ],
   "source": [
    "a[-1:-3] #can't go right to left"
   ]
  },
  {
   "cell_type": "code",
   "execution_count": 8,
   "id": "5b169319",
   "metadata": {},
   "outputs": [
    {
     "data": {
      "text/plain": [
       "(3, 4)"
      ]
     },
     "execution_count": 8,
     "metadata": {},
     "output_type": "execute_result"
    }
   ],
   "source": [
    "a[-3:-1]"
   ]
  },
  {
   "cell_type": "code",
   "execution_count": 9,
   "id": "58204024",
   "metadata": {},
   "outputs": [
    {
     "data": {
      "text/plain": [
       "(2, 4)"
      ]
     },
     "execution_count": 9,
     "metadata": {},
     "output_type": "execute_result"
    }
   ],
   "source": [
    "a[1:5:2] #last value of 2 indicates the skip in between so 2 says skip 2 values in b/w"
   ]
  },
  {
   "cell_type": "code",
   "execution_count": 13,
   "id": "14c3123d",
   "metadata": {},
   "outputs": [
    {
     "data": {
      "text/plain": [
       "[1, 'abv', 1.5, True]"
      ]
     },
     "execution_count": 13,
     "metadata": {},
     "output_type": "execute_result"
    }
   ],
   "source": [
    "#list\n",
    "a=[1,\"abv\",3.2,True]\n",
    "#tuple\n",
    "b=(1,\"abv\",3.2,True)\n",
    "#now if you have to change grade or anything then in Tuple it can be done not in List although value can be added - only new values in the last, existing can't be changed\n",
    "#why use tuple if list can support both?? Tohandle senstitive info which we dont want to change in any case\n",
    "# list is much faster and much more advanced and has lots of functions\n",
    "a[2]=1.5\n",
    "a"
   ]
  },
  {
   "cell_type": "code",
   "execution_count": 15,
   "id": "1343acd0",
   "metadata": {},
   "outputs": [
    {
     "ename": "TypeError",
     "evalue": "'tuple' object does not support item assignment",
     "output_type": "error",
     "traceback": [
      "\u001b[1;31m---------------------------------------------------------------------------\u001b[0m",
      "\u001b[1;31mTypeError\u001b[0m                                 Traceback (most recent call last)",
      "Input \u001b[1;32mIn [15]\u001b[0m, in \u001b[0;36m<cell line: 1>\u001b[1;34m()\u001b[0m\n\u001b[1;32m----> 1\u001b[0m b[\u001b[38;5;241m2\u001b[39m]\u001b[38;5;241m=\u001b[39m\u001b[38;5;241m1.7\u001b[39m\n\u001b[0;32m      2\u001b[0m b\n",
      "\u001b[1;31mTypeError\u001b[0m: 'tuple' object does not support item assignment"
     ]
    }
   ],
   "source": [
    "b[2]=1.7\n",
    "b"
   ]
  },
  {
   "cell_type": "code",
   "execution_count": 26,
   "id": "e5fa6d29",
   "metadata": {},
   "outputs": [
    {
     "data": {
      "text/plain": [
       "1"
      ]
     },
     "execution_count": 26,
     "metadata": {},
     "output_type": "execute_result"
    }
   ],
   "source": [
    "# Dictionary (mutable)\n",
    "# Now in above list/tuple, we dont have what values means like what 'abv' means if we dont have key mentioned\n",
    "\n",
    "#c={key:value,key:value,key:value,key:value}\n",
    "c={\"ID\":1,\"Name\":\"Satish\",\"Grade\":1.1,\"Active\":True}\n",
    "c\n",
    "c[\"ID\"]"
   ]
  },
  {
   "cell_type": "markdown",
   "id": "937e6aec",
   "metadata": {},
   "source": [
    "### PANDAS"
   ]
  },
  {
   "cell_type": "code",
   "execution_count": 27,
   "id": "0eace98a",
   "metadata": {},
   "outputs": [
    {
     "name": "stdout",
     "output_type": "stream",
     "text": [
      "Requirement already satisfied: pandas in c:\\users\\satish pc\\anaconda3\\lib\\site-packages (1.4.2)\n",
      "Requirement already satisfied: python-dateutil>=2.8.1 in c:\\users\\satish pc\\anaconda3\\lib\\site-packages (from pandas) (2.8.2)\n",
      "Requirement already satisfied: pytz>=2020.1 in c:\\users\\satish pc\\anaconda3\\lib\\site-packages (from pandas) (2021.3)\n",
      "Requirement already satisfied: numpy>=1.18.5 in c:\\users\\satish pc\\anaconda3\\lib\\site-packages (from pandas) (1.21.5)\n",
      "Requirement already satisfied: six>=1.5 in c:\\users\\satish pc\\anaconda3\\lib\\site-packages (from python-dateutil>=2.8.1->pandas) (1.16.0)\n"
     ]
    }
   ],
   "source": [
    "!pip install pandas"
   ]
  },
  {
   "cell_type": "code",
   "execution_count": 31,
   "id": "968b02b7",
   "metadata": {},
   "outputs": [],
   "source": [
    "import pandas as pd"
   ]
  },
  {
   "cell_type": "code",
   "execution_count": 35,
   "id": "881ad909",
   "metadata": {},
   "outputs": [
    {
     "data": {
      "text/html": [
       "<div>\n",
       "<style scoped>\n",
       "    .dataframe tbody tr th:only-of-type {\n",
       "        vertical-align: middle;\n",
       "    }\n",
       "\n",
       "    .dataframe tbody tr th {\n",
       "        vertical-align: top;\n",
       "    }\n",
       "\n",
       "    .dataframe thead th {\n",
       "        text-align: right;\n",
       "    }\n",
       "</style>\n",
       "<table border=\"1\" class=\"dataframe\">\n",
       "  <thead>\n",
       "    <tr style=\"text-align: right;\">\n",
       "      <th></th>\n",
       "      <th>Headlines</th>\n",
       "      <th>Publish Time</th>\n",
       "    </tr>\n",
       "  </thead>\n",
       "  <tbody>\n",
       "    <tr>\n",
       "      <th>0</th>\n",
       "      <td>Deutsche Post and Ford to manufacture E-Van</td>\n",
       "      <td>14-Jun-17</td>\n",
       "    </tr>\n",
       "    <tr>\n",
       "      <th>1</th>\n",
       "      <td>Ford says May China vehicle sales -3 percent y/y</td>\n",
       "      <td>7-Jun-17</td>\n",
       "    </tr>\n",
       "    <tr>\n",
       "      <th>2</th>\n",
       "      <td>Ford reports U.S. sales of 241,126 vehicles in...</td>\n",
       "      <td>1-Jun-17</td>\n",
       "    </tr>\n",
       "    <tr>\n",
       "      <th>3</th>\n",
       "      <td>Precision Camshafts gets global contract from ...</td>\n",
       "      <td>29-May-17</td>\n",
       "    </tr>\n",
       "    <tr>\n",
       "      <th>4</th>\n",
       "      <td>Ford announces global leadership team appointm...</td>\n",
       "      <td>25-May-17</td>\n",
       "    </tr>\n",
       "    <tr>\n",
       "      <th>...</th>\n",
       "      <td>...</td>\n",
       "      <td>...</td>\n",
       "    </tr>\n",
       "    <tr>\n",
       "      <th>242</th>\n",
       "      <td>Ford Motor Company Recalls 363,000 F-150 Truck...</td>\n",
       "      <td>27-Jan-11</td>\n",
       "    </tr>\n",
       "    <tr>\n",
       "      <th>243</th>\n",
       "      <td>Ford Motor Company's Ford Motor Credit To Sell...</td>\n",
       "      <td>27-Jan-11</td>\n",
       "    </tr>\n",
       "    <tr>\n",
       "      <th>244</th>\n",
       "      <td>Fitch Upgrades Ford Motor Company &amp; Ford Credi...</td>\n",
       "      <td>27-Jan-11</td>\n",
       "    </tr>\n",
       "    <tr>\n",
       "      <th>245</th>\n",
       "      <td>Ford Motor Company Recalls 5.25 Lakh Windstar ...</td>\n",
       "      <td>27-Jan-11</td>\n",
       "    </tr>\n",
       "    <tr>\n",
       "      <th>246</th>\n",
       "      <td>Ford Motor Company Plans To Build Engines For ...</td>\n",
       "      <td>25-Jan-11</td>\n",
       "    </tr>\n",
       "  </tbody>\n",
       "</table>\n",
       "<p>247 rows × 2 columns</p>\n",
       "</div>"
      ],
      "text/plain": [
       "                                             Headlines Publish Time\n",
       "0         Deutsche Post and Ford to manufacture E-Van     14-Jun-17\n",
       "1    Ford says May China vehicle sales -3 percent y/y      7-Jun-17\n",
       "2    Ford reports U.S. sales of 241,126 vehicles in...     1-Jun-17\n",
       "3    Precision Camshafts gets global contract from ...    29-May-17\n",
       "4    Ford announces global leadership team appointm...    25-May-17\n",
       "..                                                 ...          ...\n",
       "242  Ford Motor Company Recalls 363,000 F-150 Truck...    27-Jan-11\n",
       "243  Ford Motor Company's Ford Motor Credit To Sell...    27-Jan-11\n",
       "244  Fitch Upgrades Ford Motor Company & Ford Credi...    27-Jan-11\n",
       "245  Ford Motor Company Recalls 5.25 Lakh Windstar ...    27-Jan-11\n",
       "246  Ford Motor Company Plans To Build Engines For ...    25-Jan-11\n",
       "\n",
       "[247 rows x 2 columns]"
      ]
     },
     "execution_count": 35,
     "metadata": {},
     "output_type": "execute_result"
    }
   ],
   "source": [
    "data=pd.read_csv(\"Ford.csv\")\n",
    "data"
   ]
  }
 ],
 "metadata": {
  "kernelspec": {
   "display_name": "Python 3 (ipykernel)",
   "language": "python",
   "name": "python3"
  },
  "language_info": {
   "codemirror_mode": {
    "name": "ipython",
    "version": 3
   },
   "file_extension": ".py",
   "mimetype": "text/x-python",
   "name": "python",
   "nbconvert_exporter": "python",
   "pygments_lexer": "ipython3",
   "version": "3.9.12"
  }
 },
 "nbformat": 4,
 "nbformat_minor": 5
}
